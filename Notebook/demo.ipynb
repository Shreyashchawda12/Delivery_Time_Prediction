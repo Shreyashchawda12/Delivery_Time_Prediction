{
 "cells": [
  {
   "cell_type": "code",
   "execution_count": 13,
   "metadata": {},
   "outputs": [],
   "source": [
    "import pandas as pd\n",
    "import numpy as np\n",
    "import matplotlib.pyplot as plt\n",
    "%matplotlib inline\n",
    "import seaborn as sns\n",
    "pd.pandas.set_option(\"display.max_columns\",None)\n",
    "from sklearn.impute import SimpleImputer ## HAndling Missing Values\n",
    "from sklearn.preprocessing import OneHotEncoder\n",
    "from sklearn.preprocessing import StandardScaler # HAndling Feature Scaling\n",
    "\n",
    "## pipelines\n",
    "from sklearn.pipeline import Pipeline\n",
    "from sklearn.compose import ColumnTransformer"
   ]
  },
  {
   "cell_type": "code",
   "execution_count": 14,
   "metadata": {},
   "outputs": [],
   "source": [
    "df=pd.read_csv(('raw_data.csv'))\n",
    "        "
   ]
  },
  {
   "cell_type": "code",
   "execution_count": 15,
   "metadata": {},
   "outputs": [],
   "source": [
    "df = df.drop(labels=[\"ID\",\"Delivery_person_ID\",\"Order_Date\",\"Type_of_order\"],axis=1)\n",
    "df[\"Time_order_hour\"] = df[\"Time_Orderd\"].str.split(\":\").str[0]\n",
    "df[\"Time_order_min\"] = df[\"Time_Orderd\"].str.split(\":\").str[1]\n",
    "df = df.drop(labels=[\"Time_Orderd\"],axis=1)\n",
    "df[\"Time_order_picked_hour\"] = df[\"Time_Order_picked\"].str.split(\":\").str[0]\n",
    "df[\"Time_order_picked_min\"] = df[\"Time_Order_picked\"].str.split(\":\").str[1]\n",
    "df = df.drop(labels=[\"Time_Order_picked\"],axis=1)\n",
    "df[\"Time_order_hour\"] = df[\"Time_order_hour\"].astype(float)\n",
    "df[\"Time_order_min\"] = df[\"Time_order_min\"].astype(float)\n",
    "df[\"Time_order_picked_hour\"] = df[\"Time_order_picked_hour\"].astype(float)\n",
    "df[\"Time_order_picked_min\"] = df[\"Time_order_picked_min\"].astype(float)\n",
    "df1 = df.copy()\n",
    "numerical_columns=df.columns[df.dtypes!='object']\n",
    "categorical_columns=df.columns[df.dtypes=='object']\n",
    "df1 = df1[numerical_columns]\n",
    "df2 = df1.fillna(value = df1.median())\n",
    "df1 = df[categorical_columns]\n",
    "df2[\"Weather_conditions\"] = df1[\"Weather_conditions\"].fillna(method = 'ffill')\n",
    "df2[\"Road_traffic_density\"] = df1[\"Road_traffic_density\"].fillna(value = 'Medium')\n",
    "df2[\"Festival\"] = df1[\"Festival\"].fillna(value = 'No')\n",
    "df2[\"City\"] = df1[\"City\"].fillna(value = 'Semi-Urban')\n",
    "x = df2.drop(labels=[\"Time_taken (min)\"],axis=1)\n",
    "y = df2[[\"Time_taken (min)\"]]\n",
    "df2 = x\n",
    "df2['Time_taken (min)'] = y\n",
    "df = pd.DataFrame(df2)\n"
   ]
  },
  {
   "cell_type": "code",
   "execution_count": 25,
   "metadata": {},
   "outputs": [
    {
     "data": {
      "text/html": [
       "<div>\n",
       "<style scoped>\n",
       "    .dataframe tbody tr th:only-of-type {\n",
       "        vertical-align: middle;\n",
       "    }\n",
       "\n",
       "    .dataframe tbody tr th {\n",
       "        vertical-align: top;\n",
       "    }\n",
       "\n",
       "    .dataframe thead th {\n",
       "        text-align: right;\n",
       "    }\n",
       "</style>\n",
       "<table border=\"1\" class=\"dataframe\">\n",
       "  <thead>\n",
       "    <tr style=\"text-align: right;\">\n",
       "      <th></th>\n",
       "      <th>Delivery_person_Age</th>\n",
       "      <th>Delivery_person_Ratings</th>\n",
       "      <th>Restaurant_latitude</th>\n",
       "      <th>Restaurant_longitude</th>\n",
       "      <th>Delivery_location_latitude</th>\n",
       "      <th>Delivery_location_longitude</th>\n",
       "      <th>Vehicle_condition</th>\n",
       "      <th>multiple_deliveries</th>\n",
       "      <th>Time_order_hour</th>\n",
       "      <th>Time_order_min</th>\n",
       "      <th>Time_order_picked_hour</th>\n",
       "      <th>Time_order_picked_min</th>\n",
       "      <th>Weather_conditions</th>\n",
       "      <th>Road_traffic_density</th>\n",
       "      <th>Festival</th>\n",
       "      <th>City</th>\n",
       "      <th>Time_taken (min)</th>\n",
       "    </tr>\n",
       "  </thead>\n",
       "  <tbody>\n",
       "    <tr>\n",
       "      <th>0</th>\n",
       "      <td>36.0</td>\n",
       "      <td>4.2</td>\n",
       "      <td>30.327968</td>\n",
       "      <td>78.046106</td>\n",
       "      <td>30.397968</td>\n",
       "      <td>78.116106</td>\n",
       "      <td>2</td>\n",
       "      <td>3.0</td>\n",
       "      <td>21.0</td>\n",
       "      <td>55.0</td>\n",
       "      <td>22.0</td>\n",
       "      <td>10.0</td>\n",
       "      <td>Fog</td>\n",
       "      <td>Jam</td>\n",
       "      <td>No</td>\n",
       "      <td>Metropolitian</td>\n",
       "      <td>46</td>\n",
       "    </tr>\n",
       "    <tr>\n",
       "      <th>1</th>\n",
       "      <td>21.0</td>\n",
       "      <td>4.7</td>\n",
       "      <td>10.003064</td>\n",
       "      <td>76.307589</td>\n",
       "      <td>10.043064</td>\n",
       "      <td>76.347589</td>\n",
       "      <td>1</td>\n",
       "      <td>1.0</td>\n",
       "      <td>14.0</td>\n",
       "      <td>55.0</td>\n",
       "      <td>15.0</td>\n",
       "      <td>5.0</td>\n",
       "      <td>Stormy</td>\n",
       "      <td>High</td>\n",
       "      <td>No</td>\n",
       "      <td>Metropolitian</td>\n",
       "      <td>23</td>\n",
       "    </tr>\n",
       "  </tbody>\n",
       "</table>\n",
       "</div>"
      ],
      "text/plain": [
       "   Delivery_person_Age  Delivery_person_Ratings  Restaurant_latitude  \\\n",
       "0                 36.0                      4.2            30.327968   \n",
       "1                 21.0                      4.7            10.003064   \n",
       "\n",
       "   Restaurant_longitude  Delivery_location_latitude  \\\n",
       "0             78.046106                   30.397968   \n",
       "1             76.307589                   10.043064   \n",
       "\n",
       "   Delivery_location_longitude  Vehicle_condition  multiple_deliveries  \\\n",
       "0                    78.116106                  2                  3.0   \n",
       "1                    76.347589                  1                  1.0   \n",
       "\n",
       "   Time_order_hour  Time_order_min  Time_order_picked_hour  \\\n",
       "0             21.0            55.0                    22.0   \n",
       "1             14.0            55.0                    15.0   \n",
       "\n",
       "   Time_order_picked_min Weather_conditions Road_traffic_density Festival  \\\n",
       "0                   10.0                Fog                  Jam       No   \n",
       "1                    5.0             Stormy                 High       No   \n",
       "\n",
       "            City  Time_taken (min)  \n",
       "0  Metropolitian                46  \n",
       "1  Metropolitian                23  "
      ]
     },
     "execution_count": 25,
     "metadata": {},
     "output_type": "execute_result"
    }
   ],
   "source": [
    "df.head(2)"
   ]
  },
  {
   "cell_type": "code",
   "execution_count": 26,
   "metadata": {},
   "outputs": [
    {
     "data": {
      "text/plain": [
       "array([36., 21., 23., 34., 24., 29., 35., 33., 25., 31., 37., 27., 32.,\n",
       "       26., 38., 20., 22., 30., 28., 39., 15., 50.])"
      ]
     },
     "execution_count": 26,
     "metadata": {},
     "output_type": "execute_result"
    }
   ],
   "source": [
    "df['Delivery_person_Age'].unique()"
   ]
  },
  {
   "cell_type": "code",
   "execution_count": 27,
   "metadata": {},
   "outputs": [
    {
     "data": {
      "text/plain": [
       "array([4.2, 4.7, 4.3, 4.5, 4. , 4.9, 4.1, 5. , 4.8, 3.5, 4.6, 4.4, 3.8,\n",
       "       3.9, 3.7, 2.6, 2.5, 3.6, 3.1, 2.7, 1. , 3.2, 3.3, 6. , 3.4, 2.8,\n",
       "       2.9, 3. ])"
      ]
     },
     "execution_count": 27,
     "metadata": {},
     "output_type": "execute_result"
    }
   ],
   "source": [
    "df['Delivery_person_Ratings'].unique()"
   ]
  },
  {
   "cell_type": "code",
   "execution_count": 37,
   "metadata": {},
   "outputs": [
    {
     "data": {
      "text/plain": [
       "array([30.397968, 10.043064, 18.65245 , ..., 30.982872, 15.636205,\n",
       "       20.005337])"
      ]
     },
     "execution_count": 37,
     "metadata": {},
     "output_type": "execute_result"
    }
   ],
   "source": [
    "df['Delivery_location_latitude'].unique()"
   ]
  },
  {
   "cell_type": "code",
   "execution_count": 38,
   "metadata": {},
   "outputs": [
    {
     "data": {
      "text/plain": [
       "array([22.        , 15.        , 17.        ,  9.        , 20.        ,\n",
       "       21.        ,  8.        , 19.        , 12.        , 18.        ,\n",
       "       23.        , 13.        , 14.        , 11.        ,  0.45833333,\n",
       "       16.        ,  0.75      ,  0.95833333,  0.91666667, 10.        ,\n",
       "        0.875     , 24.        ,  0.375     ,  0.83333333,  0.70833333,\n",
       "        0.625     ,  1.        ,  0.79166667,  0.5       ,  0.54166667,\n",
       "        0.41666667,  0.58333333,  0.66666667])"
      ]
     },
     "execution_count": 38,
     "metadata": {},
     "output_type": "execute_result"
    }
   ],
   "source": [
    "df['Time_order_picked_hour'].unique()"
   ]
  },
  {
   "cell_type": "code",
   "execution_count": 32,
   "metadata": {},
   "outputs": [
    {
     "data": {
      "text/plain": [
       "array([2, 1, 0, 3], dtype=int64)"
      ]
     },
     "execution_count": 32,
     "metadata": {},
     "output_type": "execute_result"
    }
   ],
   "source": [
    "df['Vehicle_condition'].unique()"
   ]
  },
  {
   "cell_type": "code",
   "execution_count": 33,
   "metadata": {},
   "outputs": [
    {
     "data": {
      "text/plain": [
       "array([3., 1., 0., 2.])"
      ]
     },
     "execution_count": 33,
     "metadata": {},
     "output_type": "execute_result"
    }
   ],
   "source": [
    "df['multiple_deliveries'].unique()"
   ]
  },
  {
   "cell_type": "code",
   "execution_count": 36,
   "metadata": {},
   "outputs": [
    {
     "data": {
      "text/plain": [
       "array(['Fog', 'Stormy', 'Sandstorms', 'Windy', 'Cloudy', 'Sunny'],\n",
       "      dtype=object)"
      ]
     },
     "execution_count": 36,
     "metadata": {},
     "output_type": "execute_result"
    }
   ],
   "source": [
    "df['Weather_conditions'].unique()"
   ]
  },
  {
   "cell_type": "code",
   "execution_count": 35,
   "metadata": {},
   "outputs": [
    {
     "data": {
      "text/plain": [
       "array([36., 21., 23., 34., 24., 29., 35., 33., 25., 31., 37., 27., 32.,\n",
       "       26., 38., 20., 22., 30., 28., 39., 15., 50.])"
      ]
     },
     "execution_count": 35,
     "metadata": {},
     "output_type": "execute_result"
    }
   ],
   "source": [
    "df['Delivery_person_Age'].unique()"
   ]
  },
  {
   "cell_type": "code",
   "execution_count": 39,
   "metadata": {},
   "outputs": [
    {
     "data": {
      "text/html": [
       "<div>\n",
       "<style scoped>\n",
       "    .dataframe tbody tr th:only-of-type {\n",
       "        vertical-align: middle;\n",
       "    }\n",
       "\n",
       "    .dataframe tbody tr th {\n",
       "        vertical-align: top;\n",
       "    }\n",
       "\n",
       "    .dataframe thead th {\n",
       "        text-align: right;\n",
       "    }\n",
       "</style>\n",
       "<table border=\"1\" class=\"dataframe\">\n",
       "  <thead>\n",
       "    <tr style=\"text-align: right;\">\n",
       "      <th></th>\n",
       "      <th>Delivery_person_Age</th>\n",
       "      <th>Delivery_person_Ratings</th>\n",
       "      <th>Restaurant_latitude</th>\n",
       "      <th>Restaurant_longitude</th>\n",
       "      <th>Delivery_location_latitude</th>\n",
       "      <th>Delivery_location_longitude</th>\n",
       "      <th>Vehicle_condition</th>\n",
       "      <th>multiple_deliveries</th>\n",
       "      <th>Time_order_hour</th>\n",
       "      <th>Time_order_min</th>\n",
       "      <th>Time_order_picked_hour</th>\n",
       "      <th>Time_order_picked_min</th>\n",
       "      <th>Weather_conditions</th>\n",
       "      <th>Road_traffic_density</th>\n",
       "      <th>Festival</th>\n",
       "      <th>City</th>\n",
       "      <th>Time_taken (min)</th>\n",
       "    </tr>\n",
       "  </thead>\n",
       "  <tbody>\n",
       "    <tr>\n",
       "      <th>0</th>\n",
       "      <td>36.0</td>\n",
       "      <td>4.2</td>\n",
       "      <td>30.327968</td>\n",
       "      <td>78.046106</td>\n",
       "      <td>30.397968</td>\n",
       "      <td>78.116106</td>\n",
       "      <td>2</td>\n",
       "      <td>3.0</td>\n",
       "      <td>21.0</td>\n",
       "      <td>55.0</td>\n",
       "      <td>22.0</td>\n",
       "      <td>10.0</td>\n",
       "      <td>Fog</td>\n",
       "      <td>Jam</td>\n",
       "      <td>No</td>\n",
       "      <td>Metropolitian</td>\n",
       "      <td>46</td>\n",
       "    </tr>\n",
       "    <tr>\n",
       "      <th>1</th>\n",
       "      <td>21.0</td>\n",
       "      <td>4.7</td>\n",
       "      <td>10.003064</td>\n",
       "      <td>76.307589</td>\n",
       "      <td>10.043064</td>\n",
       "      <td>76.347589</td>\n",
       "      <td>1</td>\n",
       "      <td>1.0</td>\n",
       "      <td>14.0</td>\n",
       "      <td>55.0</td>\n",
       "      <td>15.0</td>\n",
       "      <td>5.0</td>\n",
       "      <td>Stormy</td>\n",
       "      <td>High</td>\n",
       "      <td>No</td>\n",
       "      <td>Metropolitian</td>\n",
       "      <td>23</td>\n",
       "    </tr>\n",
       "    <tr>\n",
       "      <th>2</th>\n",
       "      <td>23.0</td>\n",
       "      <td>4.7</td>\n",
       "      <td>18.562450</td>\n",
       "      <td>73.916619</td>\n",
       "      <td>18.652450</td>\n",
       "      <td>74.006619</td>\n",
       "      <td>1</td>\n",
       "      <td>1.0</td>\n",
       "      <td>17.0</td>\n",
       "      <td>30.0</td>\n",
       "      <td>17.0</td>\n",
       "      <td>40.0</td>\n",
       "      <td>Sandstorms</td>\n",
       "      <td>Medium</td>\n",
       "      <td>No</td>\n",
       "      <td>Metropolitian</td>\n",
       "      <td>21</td>\n",
       "    </tr>\n",
       "    <tr>\n",
       "      <th>3</th>\n",
       "      <td>34.0</td>\n",
       "      <td>4.3</td>\n",
       "      <td>30.899584</td>\n",
       "      <td>75.809346</td>\n",
       "      <td>30.919584</td>\n",
       "      <td>75.829346</td>\n",
       "      <td>0</td>\n",
       "      <td>0.0</td>\n",
       "      <td>9.0</td>\n",
       "      <td>20.0</td>\n",
       "      <td>9.0</td>\n",
       "      <td>30.0</td>\n",
       "      <td>Sandstorms</td>\n",
       "      <td>Low</td>\n",
       "      <td>No</td>\n",
       "      <td>Metropolitian</td>\n",
       "      <td>20</td>\n",
       "    </tr>\n",
       "    <tr>\n",
       "      <th>4</th>\n",
       "      <td>24.0</td>\n",
       "      <td>4.7</td>\n",
       "      <td>26.463504</td>\n",
       "      <td>80.372929</td>\n",
       "      <td>26.593504</td>\n",
       "      <td>80.502929</td>\n",
       "      <td>1</td>\n",
       "      <td>1.0</td>\n",
       "      <td>19.0</td>\n",
       "      <td>50.0</td>\n",
       "      <td>20.0</td>\n",
       "      <td>5.0</td>\n",
       "      <td>Fog</td>\n",
       "      <td>Jam</td>\n",
       "      <td>No</td>\n",
       "      <td>Metropolitian</td>\n",
       "      <td>41</td>\n",
       "    </tr>\n",
       "  </tbody>\n",
       "</table>\n",
       "</div>"
      ],
      "text/plain": [
       "   Delivery_person_Age  Delivery_person_Ratings  Restaurant_latitude  \\\n",
       "0                 36.0                      4.2            30.327968   \n",
       "1                 21.0                      4.7            10.003064   \n",
       "2                 23.0                      4.7            18.562450   \n",
       "3                 34.0                      4.3            30.899584   \n",
       "4                 24.0                      4.7            26.463504   \n",
       "\n",
       "   Restaurant_longitude  Delivery_location_latitude  \\\n",
       "0             78.046106                   30.397968   \n",
       "1             76.307589                   10.043064   \n",
       "2             73.916619                   18.652450   \n",
       "3             75.809346                   30.919584   \n",
       "4             80.372929                   26.593504   \n",
       "\n",
       "   Delivery_location_longitude  Vehicle_condition  multiple_deliveries  \\\n",
       "0                    78.116106                  2                  3.0   \n",
       "1                    76.347589                  1                  1.0   \n",
       "2                    74.006619                  1                  1.0   \n",
       "3                    75.829346                  0                  0.0   \n",
       "4                    80.502929                  1                  1.0   \n",
       "\n",
       "   Time_order_hour  Time_order_min  Time_order_picked_hour  \\\n",
       "0             21.0            55.0                    22.0   \n",
       "1             14.0            55.0                    15.0   \n",
       "2             17.0            30.0                    17.0   \n",
       "3              9.0            20.0                     9.0   \n",
       "4             19.0            50.0                    20.0   \n",
       "\n",
       "   Time_order_picked_min Weather_conditions Road_traffic_density Festival  \\\n",
       "0                   10.0                Fog                  Jam       No   \n",
       "1                    5.0             Stormy                 High       No   \n",
       "2                   40.0         Sandstorms               Medium       No   \n",
       "3                   30.0         Sandstorms                  Low       No   \n",
       "4                    5.0                Fog                  Jam       No   \n",
       "\n",
       "            City  Time_taken (min)  \n",
       "0  Metropolitian                46  \n",
       "1  Metropolitian                23  \n",
       "2  Metropolitian                21  \n",
       "3  Metropolitian                20  \n",
       "4  Metropolitian                41  "
      ]
     },
     "execution_count": 39,
     "metadata": {},
     "output_type": "execute_result"
    }
   ],
   "source": [
    "df.head()"
   ]
  },
  {
   "cell_type": "code",
   "execution_count": null,
   "metadata": {},
   "outputs": [],
   "source": []
  },
  {
   "cell_type": "code",
   "execution_count": null,
   "metadata": {},
   "outputs": [],
   "source": []
  },
  {
   "cell_type": "code",
   "execution_count": null,
   "metadata": {},
   "outputs": [],
   "source": []
  },
  {
   "cell_type": "code",
   "execution_count": null,
   "metadata": {},
   "outputs": [],
   "source": []
  },
  {
   "cell_type": "code",
   "execution_count": null,
   "metadata": {},
   "outputs": [],
   "source": []
  },
  {
   "cell_type": "code",
   "execution_count": null,
   "metadata": {},
   "outputs": [],
   "source": []
  }
 ],
 "metadata": {
  "kernelspec": {
   "display_name": "base",
   "language": "python",
   "name": "python3"
  },
  "language_info": {
   "codemirror_mode": {
    "name": "ipython",
    "version": 3
   },
   "file_extension": ".py",
   "mimetype": "text/x-python",
   "name": "python",
   "nbconvert_exporter": "python",
   "pygments_lexer": "ipython3",
   "version": "3.10.9"
  },
  "orig_nbformat": 4
 },
 "nbformat": 4,
 "nbformat_minor": 2
}
